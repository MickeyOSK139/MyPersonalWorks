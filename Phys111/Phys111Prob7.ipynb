{
 "cells": [
  {
   "cell_type": "markdown",
   "metadata": {},
   "source": [
    "The Lagrangian is in the form of $\\frac{1}{2} M\\dot{X}^2 -\\frac{1}{2} KX^2 $, where $X$ is the position vector, $M$ is the mass matrix, and $K$ is the spring constant matrix\n",
    "\\begin{equation}\n",
    "    X = \\begin{bmatrix}\n",
    "        x \\\\\n",
    "        y\n",
    "    \\end{bmatrix}\n",
    "\\end{equation}\n",
    "\n",
    "\\begin{equation}\n",
    "    M = \\begin{bmatrix}\n",
    "        M+m & m \\\\\n",
    "         m & m\n",
    "    \\end{bmatrix}\n",
    "\\end{equation}\n",
    "    \n",
    "\\begin{equation}\n",
    "    K = \\begin{bmatrix}\n",
    "        k & 0 \\\\\n",
    "        0 & \\frac{mg}{l}\n",
    "    \\end{bmatrix}\n",
    "\\end{equation}"
   ]
  },
  {
   "cell_type": "markdown",
   "metadata": {},
   "source": [
    "Using the\n",
    "following parameters: $M$ = 1 kg, $m$ = 0.1 kg, $\\ell$ = 1.55 cm, $k$ = 158 N/m, and $g$ = 9.81 m/s2"
   ]
  },
  {
   "cell_type": "code",
   "execution_count": 8,
   "metadata": {},
   "outputs": [],
   "source": [
    "import numpy as np\n",
    "import numpy.linalg as la"
   ]
  },
  {
   "cell_type": "code",
   "execution_count": 50,
   "metadata": {},
   "outputs": [],
   "source": [
    "m1 = 1\n",
    "m2 = 0.1\n",
    "k=158\n",
    "g=9.8\n",
    "l=0.0155\n",
    "M = np.array([[m1+m2, m2],[m2,m2]])\n",
    "K = np.array([[k, 0],[0, m2*g/l]])"
   ]
  },
  {
   "cell_type": "code",
   "execution_count": 51,
   "metadata": {},
   "outputs": [
    {
     "data": {
      "text/plain": [
       "EigResult(eigenvalues=array([140.01575024, 713.46812073]), eigenvectors=array([[-0.96184583,  0.1130941 ],\n",
       "       [-0.27359201, -0.99358428]]))"
      ]
     },
     "execution_count": 51,
     "metadata": {},
     "output_type": "execute_result"
    }
   ],
   "source": [
    "la.eig(np.matmul(la.inv(M),K))"
   ]
  },
  {
   "cell_type": "markdown",
   "metadata": {},
   "source": [
    "Solve for the initial Amplitude for each mode"
   ]
  },
  {
   "cell_type": "code",
   "execution_count": 59,
   "metadata": {},
   "outputs": [
    {
     "data": {
      "text/plain": [
       "array([[ 2.01412451],\n",
       "       [-0.55460658]])"
      ]
     },
     "execution_count": 59,
     "metadata": {},
     "output_type": "execute_result"
    }
   ],
   "source": [
    "np.matmul(la.inv(-la.eig(np.matmul(la.inv(M),K))[1]),np.array([[2],[0]]))"
   ]
  },
  {
   "cell_type": "markdown",
   "metadata": {},
   "source": [
    "For $M\\gg m$"
   ]
  },
  {
   "cell_type": "code",
   "execution_count": 67,
   "metadata": {},
   "outputs": [
    {
     "data": {
      "text/plain": [
       "EigResult(eigenvalues=array([  1.57841763, 632.89190495]), eigenvectors=array([[-0.99999687,  0.0010015 ],\n",
       "       [-0.00250272, -0.9999995 ]]))"
      ]
     },
     "execution_count": 67,
     "metadata": {},
     "output_type": "execute_result"
    }
   ],
   "source": [
    "m1 = 100\n",
    "m2 = 0.1\n",
    "M = np.array([[m1+m2, m2],[m2,m2]])\n",
    "K = np.array([[k, 0],[0, m2*g/l]])\n",
    "la.eig(np.matmul(la.inv(M),K))"
   ]
  },
  {
   "cell_type": "code",
   "execution_count": 68,
   "metadata": {},
   "outputs": [
    {
     "data": {
      "text/plain": [
       "array([[ 2.00000125],\n",
       "       [-0.00500544]])"
      ]
     },
     "execution_count": 68,
     "metadata": {},
     "output_type": "execute_result"
    }
   ],
   "source": [
    "np.matmul(la.inv(-la.eig(np.matmul(la.inv(M),K))[1]),np.array([[2],[0]]))"
   ]
  },
  {
   "cell_type": "code",
   "execution_count": null,
   "metadata": {},
   "outputs": [],
   "source": []
  }
 ],
 "metadata": {
  "kernelspec": {
   "display_name": "Python 3",
   "language": "python",
   "name": "python3"
  },
  "language_info": {
   "codemirror_mode": {
    "name": "ipython",
    "version": 3
   },
   "file_extension": ".py",
   "mimetype": "text/x-python",
   "name": "python",
   "nbconvert_exporter": "python",
   "pygments_lexer": "ipython3",
   "version": "3.11.9"
  }
 },
 "nbformat": 4,
 "nbformat_minor": 2
}
